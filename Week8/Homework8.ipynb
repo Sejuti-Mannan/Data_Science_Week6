{
  "cells": [
    {
      "cell_type": "code",
      "execution_count": null,
      "metadata": {
        "id": "fZklU2pucbIC"
      },
      "outputs": [],
      "source": [
        "import pandas as pd\n",
        "import numpy as np\n",
        "import matplotlib.pyplot as plt\n",
        "from sklearn.linear_model import LogisticRegression\n",
        "from sklearn.model_selection import train_test_split\n",
        "from sklearn.metrics import accuracy_score, precision_score, recall_score\n",
        "from sklearn.pipeline import Pipeline\n",
        "from sklearn.preprocessing import StandardScaler, OneHotEncoder\n",
        "from sklearn.compose import ColumnTransformer\n",
        "\n",
        "\n",
        "from google.colab import drive\n",
        "drive.mount('/content/drive')\n",
        "\n",
        "workspace_path = '/content/drive/MyDrive/Data_Science_Bootcamp/DS_Week8'  # Change this path!\n",
        "print(f'Current Workspace: {workspace_path}')\n",
        "\n",
        "glass = pd.read_csv(f'{workspace_path}/glass.csv')\n",
        "glass.head()"
      ]
    },
    {
      "cell_type": "code",
      "execution_count": null,
      "metadata": {
        "id": "i0UL3X_McbID"
      },
      "outputs": [],
      "source": [
        "glass.Type.value_counts().sort_index()"
      ]
    },
    {
      "cell_type": "code",
      "execution_count": null,
      "metadata": {
        "id": "jPFZgnc1cbIE"
      },
      "outputs": [],
      "source": [
        "\n",
        "glass['household'] = glass.Type.map({1:0, 2:0, 3:0, 5:1, 6:1, 7:1})\n",
        "glass.household.value_counts()"
      ]
    },
    {
      "cell_type": "code",
      "execution_count": 8,
      "metadata": {
        "id": "z6kPsLhQcbIE"
      },
      "outputs": [],
      "source": [
        "glass.sort_values( by = 'Al', inplace=True)\n",
        "X= np.array(glass.Al).reshape(-1,1)\n",
        "y = glass.household\n"
      ]
    },
    {
      "cell_type": "markdown",
      "metadata": {
        "id": "-PZkUAS8cbIE"
      },
      "source": [
        "### Q1 . Try different thresholds for computing predictions using 'Al' column. By default it is 0.5. Use predict_proba function to compute probabilities and then try custom thresholds and see their impact on Accuracy, Precision and Recall."
      ]
    },
    {
      "cell_type": "code",
      "execution_count": 9,
      "metadata": {
        "colab": {
          "base_uri": "https://localhost:8080/"
        },
        "id": "PQhV9QPLcbIE",
        "outputId": "534c039a-28ce-4755-ea9c-604cdbc9f210"
      },
      "outputs": [
        {
          "output_type": "stream",
          "name": "stdout",
          "text": [
            "Threshold: 0.50, Accuracy: 0.88, Precision: 0.88, Recall: 0.64\n",
            "Threshold: 0.60, Accuracy: 0.84, Precision: 0.83, Recall: 0.45\n",
            "Threshold: 0.70, Accuracy: 0.84, Precision: 1.00, Recall: 0.36\n"
          ]
        }
      ],
      "source": [
        "# Split the data into train and test sets\n",
        "X_train, X_test, y_train, y_test = train_test_split(X, y, test_size=0.2, random_state=42)\n",
        "\n",
        "# Train a logistic regression model\n",
        "model = LogisticRegression()\n",
        "model.fit(X_train, y_train)\n",
        "\n",
        "# Predict probabilities\n",
        "probs = model.predict_proba(X_test)[:, 1]\n",
        "\n",
        "thresholds = [0.5, 0.6, 0.7]\n",
        "for threshold in thresholds:\n",
        "    # Convert probabilities to binary predictions using the threshold\n",
        "    predictions = (probs >= threshold).astype(int)\n",
        "\n",
        "    accuracy = accuracy_score(y_test, predictions)\n",
        "    precision = precision_score(y_test, predictions)\n",
        "    recall = recall_score(y_test, predictions)\n",
        "\n",
        "    print(f\"Threshold: {threshold:.2f}, Accuracy: {accuracy:.2f}, Precision: {precision:.2f}, Recall: {recall:.2f}\")"
      ]
    },
    {
      "cell_type": "markdown",
      "metadata": {
        "id": "hxPQEDB7cbIF"
      },
      "source": [
        "### Q2. Do the same analysis for other columns"
      ]
    },
    {
      "cell_type": "code",
      "execution_count": 11,
      "metadata": {
        "colab": {
          "base_uri": "https://localhost:8080/"
        },
        "id": "Vp1uEXfKcbIF",
        "outputId": "06829cdd-dec3-4cec-9044-9c0f935559f0"
      },
      "outputs": [
        {
          "output_type": "stream",
          "name": "stderr",
          "text": [
            "/usr/local/lib/python3.10/dist-packages/sklearn/metrics/_classification.py:1531: UndefinedMetricWarning: Precision is ill-defined and being set to 0.0 due to no predicted samples. Use `zero_division` parameter to control this behavior.\n",
            "  _warn_prf(average, modifier, f\"{metric.capitalize()} is\", len(result))\n",
            "/usr/local/lib/python3.10/dist-packages/sklearn/metrics/_classification.py:1531: UndefinedMetricWarning: Precision is ill-defined and being set to 0.0 due to no predicted samples. Use `zero_division` parameter to control this behavior.\n",
            "  _warn_prf(average, modifier, f\"{metric.capitalize()} is\", len(result))\n",
            "/usr/local/lib/python3.10/dist-packages/sklearn/metrics/_classification.py:1531: UndefinedMetricWarning: Precision is ill-defined and being set to 0.0 due to no predicted samples. Use `zero_division` parameter to control this behavior.\n",
            "  _warn_prf(average, modifier, f\"{metric.capitalize()} is\", len(result))\n",
            "/usr/local/lib/python3.10/dist-packages/sklearn/metrics/_classification.py:1531: UndefinedMetricWarning: Precision is ill-defined and being set to 0.0 due to no predicted samples. Use `zero_division` parameter to control this behavior.\n",
            "  _warn_prf(average, modifier, f\"{metric.capitalize()} is\", len(result))\n",
            "/usr/local/lib/python3.10/dist-packages/sklearn/metrics/_classification.py:1531: UndefinedMetricWarning: Precision is ill-defined and being set to 0.0 due to no predicted samples. Use `zero_division` parameter to control this behavior.\n",
            "  _warn_prf(average, modifier, f\"{metric.capitalize()} is\", len(result))\n",
            "/usr/local/lib/python3.10/dist-packages/sklearn/metrics/_classification.py:1531: UndefinedMetricWarning: Precision is ill-defined and being set to 0.0 due to no predicted samples. Use `zero_division` parameter to control this behavior.\n",
            "  _warn_prf(average, modifier, f\"{metric.capitalize()} is\", len(result))\n",
            "/usr/local/lib/python3.10/dist-packages/sklearn/metrics/_classification.py:1531: UndefinedMetricWarning: Precision is ill-defined and being set to 0.0 due to no predicted samples. Use `zero_division` parameter to control this behavior.\n",
            "  _warn_prf(average, modifier, f\"{metric.capitalize()} is\", len(result))\n",
            "/usr/local/lib/python3.10/dist-packages/sklearn/metrics/_classification.py:1531: UndefinedMetricWarning: Precision is ill-defined and being set to 0.0 due to no predicted samples. Use `zero_division` parameter to control this behavior.\n",
            "  _warn_prf(average, modifier, f\"{metric.capitalize()} is\", len(result))\n",
            "/usr/local/lib/python3.10/dist-packages/sklearn/metrics/_classification.py:1531: UndefinedMetricWarning: Precision is ill-defined and being set to 0.0 due to no predicted samples. Use `zero_division` parameter to control this behavior.\n",
            "  _warn_prf(average, modifier, f\"{metric.capitalize()} is\", len(result))\n",
            "/usr/local/lib/python3.10/dist-packages/sklearn/metrics/_classification.py:1531: UndefinedMetricWarning: Precision is ill-defined and being set to 0.0 due to no predicted samples. Use `zero_division` parameter to control this behavior.\n",
            "  _warn_prf(average, modifier, f\"{metric.capitalize()} is\", len(result))\n"
          ]
        },
        {
          "output_type": "stream",
          "name": "stdout",
          "text": [
            "Element:RI, Threshold: 0.50, Accuracy: 0.74, Precision: 0.00, Recall: 0.00\n",
            "Element:RI, Threshold: 0.60, Accuracy: 0.74, Precision: 0.00, Recall: 0.00\n",
            "Element:RI, Threshold: 0.70, Accuracy: 0.74, Precision: 0.00, Recall: 0.00\n",
            "Element:Na, Threshold: 0.50, Accuracy: 0.88, Precision: 0.88, Recall: 0.64\n",
            "Element:Na, Threshold: 0.60, Accuracy: 0.81, Precision: 0.80, Recall: 0.36\n",
            "Element:Na, Threshold: 0.70, Accuracy: 0.79, Precision: 1.00, Recall: 0.18\n",
            "Element:Mg, Threshold: 0.50, Accuracy: 0.84, Precision: 0.70, Recall: 0.64\n",
            "Element:Mg, Threshold: 0.60, Accuracy: 0.84, Precision: 0.70, Recall: 0.64\n",
            "Element:Mg, Threshold: 0.70, Accuracy: 0.86, Precision: 0.78, Recall: 0.64\n",
            "Element:Si, Threshold: 0.50, Accuracy: 0.74, Precision: 0.00, Recall: 0.00\n",
            "Element:Si, Threshold: 0.60, Accuracy: 0.74, Precision: 0.00, Recall: 0.00\n",
            "Element:Si, Threshold: 0.70, Accuracy: 0.74, Precision: 0.00, Recall: 0.00\n",
            "Element:K, Threshold: 0.50, Accuracy: 0.74, Precision: 0.00, Recall: 0.00\n",
            "Element:K, Threshold: 0.60, Accuracy: 0.74, Precision: 0.00, Recall: 0.00\n",
            "Element:K, Threshold: 0.70, Accuracy: 0.74, Precision: 0.00, Recall: 0.00\n",
            "Element:Ca, Threshold: 0.50, Accuracy: 0.74, Precision: 0.00, Recall: 0.00\n",
            "Element:Ca, Threshold: 0.60, Accuracy: 0.74, Precision: 0.00, Recall: 0.00\n",
            "Element:Ca, Threshold: 0.70, Accuracy: 0.74, Precision: 0.00, Recall: 0.00\n",
            "Element:Ba, Threshold: 0.50, Accuracy: 0.81, Precision: 0.71, Recall: 0.45\n",
            "Element:Ba, Threshold: 0.60, Accuracy: 0.77, Precision: 0.60, Recall: 0.27\n",
            "Element:Ba, Threshold: 0.70, Accuracy: 0.79, Precision: 0.75, Recall: 0.27\n",
            "Element:Fe, Threshold: 0.50, Accuracy: 0.74, Precision: 0.00, Recall: 0.00\n",
            "Element:Fe, Threshold: 0.60, Accuracy: 0.74, Precision: 0.00, Recall: 0.00\n",
            "Element:Fe, Threshold: 0.70, Accuracy: 0.74, Precision: 0.00, Recall: 0.00\n"
          ]
        },
        {
          "output_type": "stream",
          "name": "stderr",
          "text": [
            "/usr/local/lib/python3.10/dist-packages/sklearn/metrics/_classification.py:1531: UndefinedMetricWarning: Precision is ill-defined and being set to 0.0 due to no predicted samples. Use `zero_division` parameter to control this behavior.\n",
            "  _warn_prf(average, modifier, f\"{metric.capitalize()} is\", len(result))\n",
            "/usr/local/lib/python3.10/dist-packages/sklearn/metrics/_classification.py:1531: UndefinedMetricWarning: Precision is ill-defined and being set to 0.0 due to no predicted samples. Use `zero_division` parameter to control this behavior.\n",
            "  _warn_prf(average, modifier, f\"{metric.capitalize()} is\", len(result))\n",
            "/usr/local/lib/python3.10/dist-packages/sklearn/metrics/_classification.py:1531: UndefinedMetricWarning: Precision is ill-defined and being set to 0.0 due to no predicted samples. Use `zero_division` parameter to control this behavior.\n",
            "  _warn_prf(average, modifier, f\"{metric.capitalize()} is\", len(result))\n",
            "/usr/local/lib/python3.10/dist-packages/sklearn/metrics/_classification.py:1531: UndefinedMetricWarning: Precision is ill-defined and being set to 0.0 due to no predicted samples. Use `zero_division` parameter to control this behavior.\n",
            "  _warn_prf(average, modifier, f\"{metric.capitalize()} is\", len(result))\n",
            "/usr/local/lib/python3.10/dist-packages/sklearn/metrics/_classification.py:1531: UndefinedMetricWarning: Precision is ill-defined and being set to 0.0 due to no predicted samples. Use `zero_division` parameter to control this behavior.\n",
            "  _warn_prf(average, modifier, f\"{metric.capitalize()} is\", len(result))\n"
          ]
        }
      ],
      "source": [
        "elements = ['RI','Na','Mg','Si','K','Ca','Ba','Fe']\n",
        "for ele in elements:\n",
        "    X= np.array(glass[ele]).reshape(-1,1)\n",
        "    y = glass.household\n",
        "\n",
        "    # Split the data into train and test sets\n",
        "    X_train, X_test, y_train, y_test = train_test_split(X, y, test_size=0.2, random_state=42)\n",
        "\n",
        "    # Train a logistic regression model\n",
        "    model = LogisticRegression()\n",
        "    model.fit(X_train, y_train)\n",
        "\n",
        "    probs = model.predict_proba(X_test)[:, 1]  # Probability of belonging to class 1 (household)\n",
        "\n",
        "    thresholds = [0.5, 0.6, 0.7]\n",
        "    for threshold in thresholds:\n",
        "        # Convert probabilities to binary predictions using the threshold\n",
        "        predictions = (probs >= threshold).astype(int)\n",
        "\n",
        "        accuracy = accuracy_score(y_test, predictions)\n",
        "        precision = precision_score(y_test, predictions)\n",
        "        recall = recall_score(y_test, predictions)\n",
        "\n",
        "        print(f\"Element:{ele}, Threshold: {threshold:.2f}, Accuracy: {accuracy:.2f}, Precision: {precision:.2f}, Recall: {recall:.2f}\")"
      ]
    },
    {
      "cell_type": "markdown",
      "metadata": {
        "id": "5H3CjKVrcbIF"
      },
      "source": [
        "### Q3. Fit a Logistic Regression Model on all features. Remember to preprocess data(eg. normalization and one hot encoding)."
      ]
    },
    {
      "cell_type": "code",
      "execution_count": null,
      "metadata": {
        "id": "vNchyIMOcbIF"
      },
      "outputs": [],
      "source": [
        "X = glass.drop(columns=['Type', 'household'])\n",
        "y = glass['household']\n",
        "\n",
        "X_train, X_test, y_train, y_test = train_test_split(X, y, test_size=0.2, random_state=42)\n",
        "\n",
        "# Preprocessing steps\n",
        "numeric_features = X.select_dtypes(include=['float64']).columns\n",
        "categorical_features = X.select_dtypes(include=['object']).columns\n",
        "\n",
        "numeric_transformer = Pipeline(steps=[\n",
        "    ('scaler', StandardScaler())\n",
        "])\n",
        "\n",
        "categorical_transformer = Pipeline(steps=[\n",
        "    ('onehot', OneHotEncoder())\n",
        "])\n",
        "\n",
        "preprocessor = ColumnTransformer(\n",
        "    transformers=[\n",
        "        ('num', numeric_transformer, numeric_features),\n",
        "        ('cat', categorical_transformer, categorical_features)\n",
        "    ])\n",
        "\n",
        "# Append classifier to preprocessing pipeline\n",
        "clf = Pipeline(steps=[('preprocessor', preprocessor),\n",
        "                      ('classifier', LogisticRegression())])\n",
        "\n",
        "clf.fit(X_train, y_train)\n",
        "y_pred = clf.predict(X_test)\n",
        "\n",
        "accuracy = accuracy_score(y_test, y_pred)\n",
        "print(\"Accuracy:\", accuracy)"
      ]
    },
    {
      "cell_type": "code",
      "execution_count": null,
      "metadata": {
        "id": "Y1pkA5QtcbIF"
      },
      "outputs": [],
      "source": []
    }
  ],
  "metadata": {
    "kernelspec": {
      "display_name": "Python 3",
      "language": "python",
      "name": "python3"
    },
    "language_info": {
      "codemirror_mode": {
        "name": "ipython",
        "version": 3
      },
      "file_extension": ".py",
      "mimetype": "text/x-python",
      "name": "python",
      "nbconvert_exporter": "python",
      "pygments_lexer": "ipython3",
      "version": "3.12.0rc1"
    },
    "colab": {
      "provenance": []
    }
  },
  "nbformat": 4,
  "nbformat_minor": 0
}